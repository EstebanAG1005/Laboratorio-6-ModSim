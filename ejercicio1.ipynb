{
 "cells": [
  {
   "cell_type": "markdown",
   "metadata": {},
   "source": [
    "## Ejercicio 1"
   ]
  },
  {
   "cell_type": "markdown",
   "metadata": {},
   "source": [
    "#### a. ¿En qué se diferencia el modelo macroscópico del modelo microscópico en este escenario?\n",
    "\n",
    "El modelo macroscópico considera la varilla como un todo y observa la variación de temperatura a lo largo de toda la varilla. Se concentra en obtener una descripción general de la distribución de temperatura.\n",
    "El modelo microscópico se centra en una región específica (por ejemplo, donde los dos materiales se encuentran) y calcula la distribución de temperatura con más detalle en esa región, teniendo en cuenta las características de los materiales individuales."
   ]
  },
  {
   "cell_type": "markdown",
   "metadata": {},
   "source": [
    "#### b. ¿Cuáles son las condiciones de contorno del modelo microscópico y cómo las determina el modelo macroscópico?\n",
    "Las condiciones de contorno para el modelo microscópico se obtendrán del modelo macroscópico. Es decir, la temperatura en los extremos de la región de interés (calculada por el modelo macroscópico) servirá como condiciones de contorno para el modelo microscópico."
   ]
  },
  {
   "cell_type": "markdown",
   "metadata": {},
   "source": [
    "#### c. ¿Cómo adaptaría este modelo multiescala si la varilla estuviera compuesta por más de dos materiales diferentes?\n",
    "Si la varilla estuviera compuesta por más de dos materiales, deberíamos repetir el procedimiento microscópico para cada interfaz entre materiales diferentes. Cada región de interfaz tendría sus propias condiciones de contorno proporcionadas por el modelo macroscópico."
   ]
  },
  {
   "cell_type": "markdown",
   "metadata": {},
   "source": [
    "##### Params"
   ]
  },
  {
   "cell_type": "code",
   "execution_count": 10,
   "metadata": {},
   "outputs": [],
   "source": [
    "import numpy as np\n",
    "import matplotlib.pyplot as plt\n",
    "\n",
    "# Parámetros\n",
    "L = 1.0\n",
    "dt = 0.0001\n",
    "dx = 0.01\n",
    "k1 = 0.2  # conductividad del material 1\n",
    "k2 = 0.5  # conductividad del material 2\n",
    "alpha1 = k1 * dt / dx**2\n",
    "alpha2 = k2 * dt / dx**2\n",
    "T0 = 0\n",
    "Tf = 100\n",
    "time_steps = 100\n",
    "x = np.arange(0, L + dx, dx)\n",
    "temp_macro = np.full(x.shape, T0)\n",
    "temp_macro[-1] = Tf \n"
   ]
  },
  {
   "cell_type": "markdown",
   "metadata": {},
   "source": [
    "##### Modelo Macroscopico"
   ]
  },
  {
   "cell_type": "code",
   "execution_count": 11,
   "metadata": {},
   "outputs": [],
   "source": [
    "\n",
    "# 1. Modelo macroscópico\n",
    "def modelo_macroscopico(temp, alpha1, alpha2, L):\n",
    "    for i in range(1, len(temp) - 1):\n",
    "        if x[i] < L/2:\n",
    "            temp[i] = temp[i] + alpha1 * (temp[i-1] - 2*temp[i] + temp[i+1])\n",
    "        else:\n",
    "            temp[i] = temp[i] + alpha2 * (temp[i-1] - 2*temp[i] + temp[i+1])\n",
    "    return temp\n"
   ]
  },
  {
   "cell_type": "markdown",
   "metadata": {},
   "source": [
    "##### Modelo Microscopico"
   ]
  },
  {
   "cell_type": "code",
   "execution_count": 12,
   "metadata": {},
   "outputs": [],
   "source": [
    "# 2. Modelo microscópico\n",
    "def modelo_microscopico(temp, alpha1, alpha2, L):\n",
    "    # Para simplificar, modelaremos la interfaz entre los dos materiales.\n",
    "    # Estos índices determinan el inicio y final de esta región.\n",
    "    start_idx = int(L/2/dx) - 5\n",
    "    end_idx = int(L/2/dx) + 5\n",
    "    \n",
    "    for i in range(start_idx, end_idx):\n",
    "        if x[i] < L/2:\n",
    "            temp[i] = temp[i] + alpha1 * (temp[i-1] - 2*temp[i] + temp[i+1])\n",
    "        else:\n",
    "            temp[i] = temp[i] + alpha2 * (temp[i-1] - 2*temp[i] + temp[i+1])\n",
    "    \n",
    "    return temp"
   ]
  },
  {
   "cell_type": "markdown",
   "metadata": {},
   "source": [
    "##### Combinacion"
   ]
  },
  {
   "cell_type": "code",
   "execution_count": 13,
   "metadata": {},
   "outputs": [],
   "source": [
    "# 3. Combinar modelos\n",
    "for t in range(time_steps):\n",
    "    temp_macro = modelo_macroscopico(temp_macro, alpha1, alpha2, L)\n",
    "    temp_macro = modelo_microscopico(temp_macro, alpha1, alpha2, L)"
   ]
  },
  {
   "cell_type": "markdown",
   "metadata": {},
   "source": [
    "##### Combinacion"
   ]
  },
  {
   "cell_type": "code",
   "execution_count": 14,
   "metadata": {},
   "outputs": [
    {
     "data": {
      "image/png": "[encoded data removed]",
      "text/plain": [
       "<Figure size 640x480 with 1 Axes>"
      ]
     },
     "metadata": {},
     "output_type": "display_data"
    }
   ],
   "source": [
    "# 4. Visualizar\n",
    "plt.plot(x, temp_macro, label='Combinado')\n",
    "plt.xlabel('Posición (m)')\n",
    "plt.ylabel('Temperatura (°C)')\n",
    "plt.legend()\n",
    "plt.show()"
   ]
  }
 ],
 "metadata": {
  "kernelspec": {
   "display_name": "Python 3",
   "language": "python",
   "name": "python3"
  },
  "language_info": {
   "codemirror_mode": {
    "name": "ipython",
    "version": 3
   },
   "file_extension": ".py",
   "mimetype": "text/x-python",
   "name": "python",
   "nbconvert_exporter": "python",
   "pygments_lexer": "ipython3",
   "version": "3.10.11"
  },
  "orig_nbformat": 4
 },
 "nbformat": 4,
 "nbformat_minor": 2
}
